{
 "cells": [
  {
   "cell_type": "code",
   "execution_count": 27,
   "metadata": {},
   "outputs": [
    {
     "name": "stdout",
     "output_type": "stream",
     "text": [
      "2395\n"
     ]
    }
   ],
   "source": [
    "import os\n",
    "import shutil\n",
    "\n",
    "# img_path = '/home/com_2/workspace/yjshin/capstone/dataset/images/'\n",
    "label_path = '/home/com_2/workspace/yjshin/capstone/dataset/labeling/'\n",
    "\n",
    "# img_list = os.listdir(img_path)\n",
    "label_list = os.listdir(label_path)\n",
    "\n",
    "print(len(label_list))"
   ]
  },
  {
   "cell_type": "code",
   "execution_count": 24,
   "metadata": {},
   "outputs": [],
   "source": [
    "img_train_path = '/home/com_2/workspace/yjshin/capstone/datasets/pig/images/train/'\n",
    "img_val_path = '/home/com_2/workspace/yjshin/capstone/datasets/pig/images/val/'\n",
    "label_train_path = '/home/com_2/workspace/yjshin/capstone/datasets/pig/labels/train/'\n",
    "label_val_path = '/home/com_2/workspace/yjshin/capstone/datasets/pig/labels/val/'"
   ]
  },
  {
   "cell_type": "code",
   "execution_count": 19,
   "metadata": {},
   "outputs": [],
   "source": [
    "for i in range(1600):\n",
    "    shutil.move(img_path+img_list[i], img_train_path+img_list[i])"
   ]
  },
  {
   "cell_type": "code",
   "execution_count": 26,
   "metadata": {},
   "outputs": [
    {
     "name": "stdout",
     "output_type": "stream",
     "text": [
      "1600 793\n"
     ]
    }
   ],
   "source": [
    "img_train_list = os.listdir(img_train_path)\n",
    "img_val_list = os.listdir(img_val_path)\n",
    "print(len(img_train_list), len(img_val_list))"
   ]
  },
  {
   "cell_type": "code",
   "execution_count": 30,
   "metadata": {},
   "outputs": [
    {
     "name": "stdout",
     "output_type": "stream",
     "text": [
      "1600 793\n"
     ]
    }
   ],
   "source": [
    "label_train_list = os.listdir(label_train_path)\n",
    "label_val_list = os.listdir(label_val_path)\n",
    "print(len(label_train_list), len(label_val_list))"
   ]
  },
  {
   "cell_type": "code",
   "execution_count": 29,
   "metadata": {},
   "outputs": [],
   "source": [
    "for label in label_list:\n",
    "    if label[:-4]+'.jpg' in img_train_list:\n",
    "        shutil.move(label_path+label, label_train_path+label)\n",
    "    elif label[:-4]+'.jpg' in img_val_list:\n",
    "        shutil.move(label_path+label, label_val_path+label)"
   ]
  },
  {
   "cell_type": "code",
   "execution_count": 14,
   "metadata": {},
   "outputs": [
    {
     "data": {
      "text/plain": [
       "'17430_kh1.txt'"
      ]
     },
     "execution_count": 14,
     "metadata": {},
     "output_type": "execute_result"
    }
   ],
   "source": [
    "img_list[0][:-4]+'.txt'"
   ]
  },
  {
   "cell_type": "code",
   "execution_count": 17,
   "metadata": {},
   "outputs": [],
   "source": [
    "for img in img_list:\n",
    "    if not img[:-4]+'.txt' in label_list:\n",
    "        os.remove(img_path+img)\n",
    "        print(img)"
   ]
  },
  {
   "cell_type": "code",
   "execution_count": 3,
   "metadata": {},
   "outputs": [],
   "source": [
    "from glob import glob\n",
    " \n",
    "train_img_list = glob('./images/train/*.jpg')\n",
    "valid_img_list = glob('./images/val/*.jpg')\n",
    " \n",
    "with open('./train.txt', 'w') as f:\n",
    "\tf.write('\\n'.join(train_img_list) + '\\n')\n",
    "    \n",
    "with open('./val.txt', 'w') as f:\n",
    "\tf.write('\\n'.join(valid_img_list) + '\\n')\n",
    " "
   ]
  },
  {
   "cell_type": "code",
   "execution_count": null,
   "metadata": {},
   "outputs": [],
   "source": []
  },
  {
   "cell_type": "code",
   "execution_count": 2,
   "metadata": {},
   "outputs": [
    {
     "name": "stdout",
     "output_type": "stream",
     "text": [
      "/home/com_2/workspace/yjshin/capstone/datasets/pig\n"
     ]
    }
   ],
   "source": [
    "cd datasets/pig"
   ]
  },
  {
   "cell_type": "code",
   "execution_count": 1,
   "metadata": {},
   "outputs": [
    {
     "data": {
      "text/plain": [
       "'/home/com_2/workspace/yjshin/capstone'"
      ]
     },
     "execution_count": 1,
     "metadata": {},
     "output_type": "execute_result"
    }
   ],
   "source": [
    "pwd"
   ]
  },
  {
   "cell_type": "code",
   "execution_count": null,
   "metadata": {},
   "outputs": [],
   "source": []
  }
 ],
 "metadata": {
  "kernelspec": {
   "display_name": "Python 3",
   "language": "python",
   "name": "python3"
  },
  "language_info": {
   "codemirror_mode": {
    "name": "ipython",
    "version": 3
   },
   "file_extension": ".py",
   "mimetype": "text/x-python",
   "name": "python",
   "nbconvert_exporter": "python",
   "pygments_lexer": "ipython3",
   "version": "3.8.10"
  },
  "orig_nbformat": 4
 },
 "nbformat": 4,
 "nbformat_minor": 2
}
